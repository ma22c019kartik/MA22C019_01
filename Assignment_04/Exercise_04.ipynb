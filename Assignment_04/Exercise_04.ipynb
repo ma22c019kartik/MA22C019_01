{
  "nbformat": 4,
  "nbformat_minor": 0,
  "metadata": {
    "colab": {
      "provenance": []
    },
    "kernelspec": {
      "name": "python3",
      "display_name": "Python 3"
    },
    "language_info": {
      "name": "python"
    }
  },
  "cells": [
    {
      "cell_type": "code",
      "execution_count": 18,
      "metadata": {
        "id": "xMoa5uYifhOH"
      },
      "outputs": [],
      "source": [
        "def twice(x):\n",
        "  x *=2\n",
        "  print('inside function twice.',x)"
      ]
    },
    {
      "cell_type": "code",
      "source": [
        "v = [7, 3, 5]\n",
        "print('outside the function--',twice(v))\n",
        "print('print v to see changes are permanent or not--',v)"
      ],
      "metadata": {
        "colab": {
          "base_uri": "https://localhost:8080/"
        },
        "id": "0J7WmajngMiw",
        "outputId": "6a4cdd18-07b8-43e2-d61b-183d0e3b5c65"
      },
      "execution_count": 20,
      "outputs": [
        {
          "output_type": "stream",
          "name": "stdout",
          "text": [
            "inside function twice. [7, 3, 5, 7, 3, 5]\n",
            "outside the function-- None\n",
            "print v to see changes are permanent or not-- [7, 3, 5, 7, 3, 5]\n"
          ]
        }
      ]
    },
    {
      "cell_type": "markdown",
      "source": [
        "**Using Numpy**"
      ],
      "metadata": {
        "id": "RDHueOOphkDY"
      }
    },
    {
      "cell_type": "code",
      "source": [
        "import numpy as np\n",
        "v = np.array(v)"
      ],
      "metadata": {
        "id": "ORQa-cftguDy"
      },
      "execution_count": 21,
      "outputs": []
    },
    {
      "cell_type": "code",
      "source": [
        "print('outside the function--',twice(v))\n",
        "print('print v to see changes are permanent or not--',v)"
      ],
      "metadata": {
        "colab": {
          "base_uri": "https://localhost:8080/"
        },
        "id": "QI_gFVd1gvXZ",
        "outputId": "5225d22c-532e-41ef-ff2a-2340a821a2a4"
      },
      "execution_count": 22,
      "outputs": [
        {
          "output_type": "stream",
          "name": "stdout",
          "text": [
            "inside function twice. [14  6 10 14  6 10]\n",
            "outside the function-- None\n",
            "print v to see changes are permanent or not-- [14  6 10 14  6 10]\n"
          ]
        }
      ]
    },
    {
      "cell_type": "markdown",
      "source": [
        "**Using String**"
      ],
      "metadata": {
        "id": "-O40dM9UhfEV"
      }
    },
    {
      "cell_type": "code",
      "source": [
        "v = 'Chennai'\n",
        "print('outside the function-',twice(v))\n",
        "print('print v to see changes are permanent or temparory-',v)"
      ],
      "metadata": {
        "colab": {
          "base_uri": "https://localhost:8080/"
        },
        "id": "8c0rlXRLhDy0",
        "outputId": "748ab43e-4d34-4e13-ef48-78643ac10498"
      },
      "execution_count": 24,
      "outputs": [
        {
          "output_type": "stream",
          "name": "stdout",
          "text": [
            "inside function twice. ChennaiChennai\n",
            "outside the function- None\n",
            "print v to see changes are permanent or temparory- Chennai\n"
          ]
        }
      ]
    },
    {
      "cell_type": "code",
      "source": [],
      "metadata": {
        "id": "FHLRNOymjgfM"
      },
      "execution_count": null,
      "outputs": []
    },
    {
      "cell_type": "code",
      "source": [],
      "metadata": {
        "id": "lF2njbsnhd7x"
      },
      "execution_count": null,
      "outputs": []
    }
  ]
}