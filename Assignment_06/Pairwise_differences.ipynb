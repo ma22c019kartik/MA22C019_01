{
  "nbformat": 4,
  "nbformat_minor": 0,
  "metadata": {
    "colab": {
      "provenance": []
    },
    "kernelspec": {
      "name": "python3",
      "display_name": "Python 3"
    },
    "language_info": {
      "name": "python"
    }
  },
  "cells": [
    {
      "cell_type": "code",
      "execution_count": 1,
      "metadata": {
        "colab": {
          "base_uri": "https://localhost:8080/"
        },
        "id": "3LVEpXuVt_MT",
        "outputId": "d85597c5-bc77-4086-a928-7256f2fa468a"
      },
      "outputs": [
        {
          "output_type": "stream",
          "name": "stdout",
          "text": [
            "[[ 0.          0.36482965  0.41909208  0.37261912  0.00981342]\n",
            " [-0.36482965  0.          0.05426243  0.00778947 -0.35501623]\n",
            " [-0.41909208 -0.05426243  0.         -0.04647296 -0.40927866]\n",
            " [-0.37261912 -0.00778947  0.04647296  0.         -0.3628057 ]\n",
            " [-0.00981342  0.35501623  0.40927866  0.3628057   0.        ]]\n"
          ]
        }
      ],
      "source": [
        "import numpy as np\n",
        "\n",
        "x = np.random.rand(5) #generates a 1D NumPy array x of length 5 filled with random numbers between 0 and 1 using the np.random.rand function.\n",
        "\n",
        "D = np.subtract.outer(x, x)  #np.subtract.outer(x, x) will be a 2D array where each element at position [i][j] represents the result of subtracting x[i] from x[j].\n",
        "print(D)"
      ]
    },
    {
      "cell_type": "code",
      "source": [
        "#extanded version\n",
        "A = np.zeros((5,5))\n",
        "for i in range(5):\n",
        "  for j in range (5):\n",
        "    A[i][j]=x[i]-x[j]\n",
        "\n",
        "print(A)"
      ],
      "metadata": {
        "colab": {
          "base_uri": "https://localhost:8080/"
        },
        "id": "f7cig1Zjw1QC",
        "outputId": "ca8aa783-a47d-4e7e-bb8c-45cdce45abd8"
      },
      "execution_count": 2,
      "outputs": [
        {
          "output_type": "stream",
          "name": "stdout",
          "text": [
            "[[ 0.          0.36482965  0.41909208  0.37261912  0.00981342]\n",
            " [-0.36482965  0.          0.05426243  0.00778947 -0.35501623]\n",
            " [-0.41909208 -0.05426243  0.         -0.04647296 -0.40927866]\n",
            " [-0.37261912 -0.00778947  0.04647296  0.         -0.3628057 ]\n",
            " [-0.00981342  0.35501623  0.40927866  0.3628057   0.        ]]\n"
          ]
        }
      ]
    }
  ]
}