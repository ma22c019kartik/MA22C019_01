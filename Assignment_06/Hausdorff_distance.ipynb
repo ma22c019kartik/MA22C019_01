{
  "nbformat": 4,
  "nbformat_minor": 0,
  "metadata": {
    "colab": {
      "provenance": []
    },
    "kernelspec": {
      "name": "python3",
      "display_name": "Python 3"
    },
    "language_info": {
      "name": "python"
    }
  },
  "cells": [
    {
      "cell_type": "code",
      "execution_count": 1,
      "metadata": {
        "colab": {
          "base_uri": "https://localhost:8080/"
        },
        "id": "-2a2Np5sx62d",
        "outputId": "1a5d8c6d-a370-453c-b6b0-08be6b5e7b5d"
      },
      "outputs": [
        {
          "output_type": "stream",
          "name": "stdout",
          "text": [
            "A= [[0.61776418 0.34362855]\n",
            " [0.69492964 0.55523767]\n",
            " [0.13172726 0.75264394]\n",
            " [0.72005041 0.7927214 ]\n",
            " [0.05833141 0.97002041]]\n",
            "\n",
            "\n",
            "\n",
            "B= [[0.68294241 0.66578986]\n",
            " [0.62657853 0.55449531]\n",
            " [0.41868382 0.70925516]\n",
            " [0.06440575 0.0742889 ]\n",
            " [0.82403577 0.83855754]\n",
            " [0.57834331 0.89559037]\n",
            " [0.59309066 0.32603448]]\n"
          ]
        }
      ],
      "source": [
        "import numpy as np\n",
        "import math\n",
        "# Define two sets of points A and B\n",
        "A = np.random.rand(5, 2)\n",
        "print(\"A=\",A)\n",
        "print(\"\\n\\n\")\n",
        "B = np.random.rand(7, 2)\n",
        "print(\"B=\",B)"
      ]
    },
    {
      "cell_type": "code",
      "source": [
        "def euclidean_distance(a1, a2):#this function compute 2-norm of vector(a1-a2)\n",
        "    sum=0\n",
        "    for i in range(2):\n",
        "      sum+=pow(a1[i]-a2[i],2)\n",
        "    return math.sqrt(sum)"
      ],
      "metadata": {
        "id": "lCQ2jmpkEYHQ"
      },
      "execution_count": 2,
      "outputs": []
    },
    {
      "cell_type": "code",
      "source": [
        "def hausdorff_distance(A, B):#this function compute housedorff distance\n",
        "    max_hausdorff_distance = 0\n",
        "\n",
        "    for a in A:\n",
        "        min_distance_a_to_B = np.inf\n",
        "        for b in B:\n",
        "            distance = euclidean_distance(a, b)\n",
        "            if distance < min_distance_a_to_B:\n",
        "                min_distance_a_to_B = distance\n",
        "\n",
        "        if min_distance_a_to_B > max_hausdorff_distance:\n",
        "            max_hausdorff_distance = min_distance_a_to_B\n",
        "\n",
        "    for b in B:\n",
        "        min_distance_b_to_A = np.inf\n",
        "        for a in A:\n",
        "            distance = euclidean_distance(b, a)\n",
        "            if distance < min_distance_b_to_A:\n",
        "                min_distance_b_to_A = distance\n",
        "\n",
        "        if min_distance_b_to_A > max_hausdorff_distance:\n",
        "            max_hausdorff_distance = min_distance_b_to_A\n",
        "\n",
        "    return max_hausdorff_distance"
      ],
      "metadata": {
        "id": "VlHw9cRyEhMh"
      },
      "execution_count": 11,
      "outputs": []
    },
    {
      "cell_type": "code",
      "source": [
        "# Compute the Hausdorff distance between A and B\n",
        "hausdorff_distance_AB = hausdorff_distance(A, B)\n",
        "\n",
        "print(\"Hausdorff distance between A and B:\", hausdorff_distance_AB)"
      ],
      "metadata": {
        "colab": {
          "base_uri": "https://localhost:8080/"
        },
        "id": "ujlNd4eGEkxG",
        "outputId": "6913814a-101c-4fde-ded9-018933220f49"
      },
      "execution_count": 16,
      "outputs": [
        {
          "output_type": "stream",
          "name": "stdout",
          "text": [
            "Hausdorff distance between A and B: 0.6154262021171548\n"
          ]
        }
      ]
    }
  ]
}