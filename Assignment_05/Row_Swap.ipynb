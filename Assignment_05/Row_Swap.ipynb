{
  "nbformat": 4,
  "nbformat_minor": 0,
  "metadata": {
    "colab": {
      "provenance": []
    },
    "kernelspec": {
      "name": "python3",
      "display_name": "Python 3"
    },
    "language_info": {
      "name": "python"
    }
  },
  "cells": [
    {
      "cell_type": "code",
      "execution_count": 1,
      "metadata": {
        "colab": {
          "base_uri": "https://localhost:8080/"
        },
        "id": "si06ADhmcWk5",
        "outputId": "37013f4e-7ee8-4a00-c0b8-2a3321d03fbb"
      },
      "outputs": [
        {
          "output_type": "stream",
          "name": "stdout",
          "text": [
            "[[7 8 9]\n",
            " [4 5 6]\n",
            " [1 2 3]]\n"
          ]
        }
      ],
      "source": [
        "import numpy as np\n",
        "\n",
        "# Create a sample numpy array A\n",
        "A = np.array([[1, 2, 3],\n",
        "              [4, 5, 6],\n",
        "              [7, 8, 9]])\n",
        "\n",
        "# Define the rows i and j that you want to interchange\n",
        "i, j = 0, 2\n",
        "\n",
        "# Interchange rows i and j\n",
        "A[[i, j]] = A[[j, i]]\n",
        "\n",
        "# Print the modified array A\n",
        "print(A)\n"
      ]
    }
  ]
}