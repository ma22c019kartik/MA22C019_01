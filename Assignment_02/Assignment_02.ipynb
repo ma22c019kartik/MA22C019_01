{
  "nbformat": 4,
  "nbformat_minor": 0,
  "metadata": {
    "colab": {
      "provenance": []
    },
    "kernelspec": {
      "name": "python3",
      "display_name": "Python 3"
    },
    "language_info": {
      "name": "python"
    }
  },
  "cells": [
    {
      "cell_type": "code",
      "execution_count": 1,
      "metadata": {
        "colab": {
          "base_uri": "https://localhost:8080/"
        },
        "id": "j-CGuEMzbotp",
        "outputId": "bce1973f-5863-48e4-8edd-6da7b3e9d088"
      },
      "outputs": [
        {
          "output_type": "stream",
          "name": "stdout",
          "text": [
            "Input the initial approximation for x: 1\n",
            "Input the initial approximation for y: 2\n",
            "Define the input accuracy: 0.01\n",
            "Input the maximum number of iteration: 20\n",
            "Iteration \t x \t \ty \t\tz \t\tf(z) \t |x - y|\n",
            "1 \t 1.0 \t 2.0 \t 1.5 \t 0.0707372016677029 \t 1.0\n",
            "2 \t 1.5 \t 2.0 \t 1.75 \t -0.17824605564949209 \t 0.5\n",
            "3 \t 1.5 \t 1.75 \t 1.625 \t -0.05417713502693632 \t 0.25\n",
            "4 \t 1.5 \t 1.625 \t 1.5625 \t 0.008296231623858378 \t 0.125\n",
            "5 \t 1.5625 \t 1.625 \t 1.59375 \t -0.022951657653640416 \t 0.0625\n",
            "6 \t 1.5625 \t 1.59375 \t 1.578125 \t -0.007328607602110553 \t 0.03125\n",
            "7 \t 1.5625 \t 1.578125 \t 1.5703125 \t 0.0004838267760202487 \t 0.015625\n",
            "\n",
            "The root of the given equation is: 1.5703125\n"
          ]
        }
      ],
      "source": [
        "import math\n",
        "\n",
        "def f(a):\n",
        "    return math.cos(a)\n",
        "\n",
        "x = float(input(\"Input the initial approximation for x: \"))\n",
        "y = float(input(\"Input the initial approximation for y: \"))\n",
        "eps = float(input(\"Define the input accuracy: \"))\n",
        "count = int(input(\"Input the maximum number of iteration: \"))\n",
        "\n",
        "if f(x) * f(y) <= 0:\n",
        "    iter = 1\n",
        "    print(\"Iteration \\t x \\t \\ty \\t\\tz \\t\\tf(z) \\t |x - y|\")\n",
        "    while abs(x - y) >= eps and iter <= count:\n",
        "        z = (x + y) / 2\n",
        "        print(iter, \"\\t\", x, \"\\t\", y, \"\\t\", z, \"\\t\", f(z), \"\\t\", abs(x - y))\n",
        "        if f(x) * f(z) > 0:\n",
        "            x = z\n",
        "        elif f(x) * f(z) < 0:\n",
        "            y = z\n",
        "        iter += 1\n",
        "    print(\"\\nThe root of the given equation is:\", z)\n",
        "else:\n",
        "    print(\"\\nThe root doesn't exist in the given interval.\")\n",
        "    x = float(input(\"Input the initial approximation for x: \"))\n"
      ]
    }
  ]
}