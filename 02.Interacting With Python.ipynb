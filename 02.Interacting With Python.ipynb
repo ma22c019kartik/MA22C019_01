{
  "nbformat": 4,
  "nbformat_minor": 0,
  "metadata": {
    "colab": {
      "provenance": [],
      "authorship_tag": "ABX9TyNNYg8dQf20MxiPvIpP2qPY",
      "include_colab_link": true
    },
    "kernelspec": {
      "name": "python3",
      "display_name": "Python 3"
    },
    "language_info": {
      "name": "python"
    }
  },
  "cells": [
    {
      "cell_type": "markdown",
      "metadata": {
        "id": "view-in-github",
        "colab_type": "text"
      },
      "source": [
        "<a href=\"https://colab.research.google.com/github/ma22c019kartik/MA22C019_01/blob/main/02.Interacting%20With%20Python.ipynb\" target=\"_parent\"><img src=\"https://colab.research.google.com/assets/colab-badge.svg\" alt=\"Open In Colab\"/></a>"
      ]
    },
    {
      "cell_type": "code",
      "execution_count": 1,
      "metadata": {
        "colab": {
          "base_uri": "https://localhost:8080/"
        },
        "id": "GqGmAZzpH-rp",
        "outputId": "054a3a28-8188-4363-a65a-1a4b8444fcb6"
      },
      "outputs": [
        {
          "output_type": "execute_result",
          "data": {
            "text/plain": [
              "0.14008146171564725"
            ]
          },
          "metadata": {},
          "execution_count": 1
        }
      ],
      "source": [
        "from math import cos, sqrt, pi\n",
        "cos(pi*sqrt(pi))**7"
      ]
    },
    {
      "cell_type": "code",
      "source": [
        "# %load ../pyfiles/myfirstpy.py\n",
        "from math import cos, sqrt, pi\n",
        "print('Hello, I can compute! ')\n",
        "x = 3\n",
        "y = cos(pi*sqrt(pi)*x)**7\n",
        "print('Starting from x =', x, 'we have computed y=', y)"
      ],
      "metadata": {
        "colab": {
          "base_uri": "https://localhost:8080/"
        },
        "id": "a1BgsQVwJctZ",
        "outputId": "b4af1e12-88cb-4bf4-8521-cbbf5ffdf665"
      },
      "execution_count": 2,
      "outputs": [
        {
          "output_type": "stream",
          "name": "stdout",
          "text": [
            "Hello, I can compute! \n",
            "Starting from x = 3 we have computed y= -0.013884089495354414\n"
          ]
        }
      ]
    }
  ]
}