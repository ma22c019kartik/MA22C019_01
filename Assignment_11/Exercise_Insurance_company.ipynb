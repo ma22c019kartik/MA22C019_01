{
  "nbformat": 4,
  "nbformat_minor": 0,
  "metadata": {
    "colab": {
      "provenance": []
    },
    "kernelspec": {
      "name": "python3",
      "display_name": "Python 3"
    },
    "language_info": {
      "name": "python"
    }
  },
  "cells": [
    {
      "cell_type": "markdown",
      "source": [
        "**Question 1: What is the probability that the insurance company will run out of its reserve\n",
        "eventually and be ruined?**"
      ],
      "metadata": {
        "id": "e2-Mo8MCXV3u"
      }
    },
    {
      "cell_type": "code",
      "source": [
        "def insurance_ruin_probability(q, reserve_start):\n",
        "    prob_ruin = 0.0\n",
        "    reserve = reserve_start\n",
        "\n",
        "    while reserve > 0:\n",
        "        # With probability q, the company may receive a claim\n",
        "        if np.random.rand() < q:\n",
        "            reserve -= 200  # Pay $200 in case of a claim\n",
        "        else:\n",
        "            reserve += 100  # Earn $100 every day\n",
        "\n",
        "    # If reserve becomes 0 or negative, the company is ruined\n",
        "    if reserve <= 0:\n",
        "        prob_ruin = 1.0\n",
        "\n",
        "    return prob_ruin\n",
        "\n",
        "import numpy as np\n",
        "\n",
        "q = 0.46  # Probability of receiving a claim\n",
        "reserve_start = 1000  # Starting reserve amount\n",
        "num_simulations = 10000  # Number of simulations to estimate probability\n",
        "\n",
        "ruin_count = sum(insurance_ruin_probability(q, reserve_start) for _ in range(num_simulations))\n",
        "prob_ruin = ruin_count / num_simulations\n",
        "\n",
        "print(f\"The probability that the insurance company will be ruined is approximately: {prob_ruin:.4f}\")"
      ],
      "metadata": {
        "colab": {
          "base_uri": "https://localhost:8080/"
        },
        "id": "OJyq-F3rXCUq",
        "outputId": "d1b00eea-cb4a-4409-95e0-f66ec7573bed"
      },
      "execution_count": 4,
      "outputs": [
        {
          "output_type": "stream",
          "name": "stdout",
          "text": [
            "The probability that the insurance company will be ruined is approximately: 1.0000\n"
          ]
        }
      ]
    },
    {
      "cell_type": "markdown",
      "source": [
        "**Question 2: What should be the company’s reserve in order to make the probability of the\n",
        "company’s ruin less than 0.1%?**"
      ],
      "metadata": {
        "id": "0E7Uq2SMXenu"
      }
    },
    {
      "cell_type": "code",
      "source": [
        "def calculate_reserve_for_probability(q, target_probability):\n",
        "    reserve = 1000  # Starting reserve amount\n",
        "    current_probability = 0.0\n",
        "\n",
        "    while current_probability < target_probability:\n",
        "        ruin_count = sum(insurance_ruin_probability(q, reserve) for _ in range(num_simulations))\n",
        "        current_probability = ruin_count / num_simulations\n",
        "        reserve += 100  # Increment reserve amount\n",
        "\n",
        "    return reserve\n",
        "\n",
        "target_probability = 0.001  # Target probability of ruin less than 0.1%\n",
        "required_reserve = calculate_reserve_for_probability(q, target_probability)\n",
        "\n",
        "print(f\"The required reserve amount to make the probability of ruin less than 0.1% is: ${required_reserve}\")"
      ],
      "metadata": {
        "colab": {
          "base_uri": "https://localhost:8080/"
        },
        "id": "yg3Wp2TqXHeE",
        "outputId": "d212e7fe-2f71-4249-c04c-238b97c98ee3"
      },
      "execution_count": 5,
      "outputs": [
        {
          "output_type": "stream",
          "name": "stdout",
          "text": [
            "The required reserve amount to make the probability of ruin less than 0.1% is: $1100\n"
          ]
        }
      ]
    }
  ]
}