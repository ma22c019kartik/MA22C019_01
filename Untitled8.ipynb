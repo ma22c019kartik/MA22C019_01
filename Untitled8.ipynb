{
  "nbformat": 4,
  "nbformat_minor": 0,
  "metadata": {
    "colab": {
      "provenance": []
    },
    "kernelspec": {
      "name": "python3",
      "display_name": "Python 3"
    },
    "language_info": {
      "name": "python"
    }
  },
  "cells": [
    {
      "cell_type": "code",
      "execution_count": 1,
      "metadata": {
        "colab": {
          "base_uri": "https://localhost:8080/"
        },
        "id": "HdQKHkLXyEIC",
        "outputId": "5f95f581-477a-47de-815f-908aa3fbaf60"
      },
      "outputs": [
        {
          "output_type": "stream",
          "name": "stdout",
          "text": [
            "Hell0 World\n"
          ]
        }
      ],
      "source": [
        "print(\"Hell0 World\")"
      ]
    }
  ]
}