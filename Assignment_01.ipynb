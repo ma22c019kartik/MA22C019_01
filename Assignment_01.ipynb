{
  "nbformat": 4,
  "nbformat_minor": 0,
  "metadata": {
    "colab": {
      "provenance": [],
      "authorship_tag": "ABX9TyM+GYGP/cSU47SAu27hWlPh",
      "include_colab_link": true
    },
    "kernelspec": {
      "name": "python3",
      "display_name": "Python 3"
    },
    "language_info": {
      "name": "python"
    }
  },
  "cells": [
    {
      "cell_type": "markdown",
      "metadata": {
        "id": "view-in-github",
        "colab_type": "text"
      },
      "source": [
        "<a href=\"https://colab.research.google.com/github/ma22c019kartik/MA22C019_2023_PL/blob/main/Assignment_01.ipynb\" target=\"_parent\"><img src=\"https://colab.research.google.com/assets/colab-badge.svg\" alt=\"Open In Colab\"/></a>"
      ]
    },
    {
      "cell_type": "code",
      "execution_count": 12,
      "metadata": {
        "colab": {
          "base_uri": "https://localhost:8080/"
        },
        "id": "9bedJlRSEGye",
        "outputId": "5761d760-8ea3-412b-8388-85d52adbbdd4"
      },
      "outputs": [
        {
          "output_type": "stream",
          "name": "stdout",
          "text": [
            "Enter the value till when you want to run the sum: 10\n",
            "Enter the value of power raise to individual terms of the summation: 1\n",
            "The required sum is  45\n"
          ]
        }
      ],
      "source": [
        "sum=0\n",
        "n=int(input(\"Enter the value till when you want to run the sum: \"))\n",
        "k=int(input(\"Enter the value of power raise to individual terms of the summation: \"))\n",
        "for i in  range(1,n):\n",
        "      sum = sum + i**k\n",
        "      i = i+1\n",
        "print(\"The required sum is \",sum)"
      ]
    }
  ]
}